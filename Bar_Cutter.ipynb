{
 "cells": [
  {
   "cell_type": "code",
   "execution_count": 1,
   "metadata": {},
   "outputs": [
    {
     "data": {
      "text/plain": [
       "{'divide': 'warn', 'over': 'warn', 'under': 'ignore', 'invalid': 'warn'}"
      ]
     },
     "execution_count": 1,
     "metadata": {},
     "output_type": "execute_result"
    }
   ],
   "source": [
    "import numpy as np\n",
    "import itertools\n",
    "np.seterr(divide='ignore')"
   ]
  },
  {
   "cell_type": "code",
   "execution_count": 2,
   "metadata": {},
   "outputs": [],
   "source": [
    "class Bar:\n",
    "    def __init__(self, title, dia, length, number):\n",
    "        self.title = title\n",
    "        self.dia = dia\n",
    "        self.length = length\n",
    "        self.number = number"
   ]
  },
  {
   "cell_type": "code",
   "execution_count": 3,
   "metadata": {},
   "outputs": [],
   "source": [
    "def get_coefficien_list(L, bar_length_list):\n",
    "    bar_length_min = min(bar_length_list)\n",
    "    max_iter = int(L/bar_length_min)+1\n",
    "    co_efficient_list = np.arange(max_iter)\n",
    "\n",
    "    product_arguments = [co_efficient_list]*len(bar_length_list)\n",
    "\n",
    "    # print(product_arguments)\n",
    "    return list(itertools.product(*product_arguments))"
   ]
  },
  {
   "cell_type": "code",
   "execution_count": 4,
   "metadata": {},
   "outputs": [],
   "source": [
    "def get_coefficien_arr(L, bar_length_list):\n",
    "    coefficien_arr = np.array(get_coefficien_list(L, bar_length_list))\n",
    "    bar_length_arr = np.array(bar_length_list)\n",
    "\n",
    "    sum_arr = np.sum(coefficien_arr*bar_length_arr, axis=1)\n",
    "    # Remove all item which sum length = 0 or greater than L\n",
    "    condition = (sum_arr == 0) | (sum_arr > L)\n",
    "    condition = np.invert(condition)\n",
    "\n",
    "    return coefficien_arr[condition]"
   ]
  },
  {
   "cell_type": "code",
   "execution_count": 5,
   "metadata": {},
   "outputs": [],
   "source": [
    "def get_sorted_list(L,bar_length_list):\n",
    "    coeff_arr = get_coefficien_arr(L,bar_length_list)\n",
    "    westageArr =L-np.sum(coeff_arr * bar_length_list, axis=1)\n",
    "    indexArr = np.argsort(westageArr)\n",
    "    return coeff_arr[indexArr]"
   ]
  },
  {
   "cell_type": "markdown",
   "metadata": {},
   "source": [
    "## Now Define the Bar Parameters"
   ]
  },
  {
   "cell_type": "code",
   "execution_count": 6,
   "metadata": {},
   "outputs": [],
   "source": [
    "L = 12\n",
    "bar_length_list = [2.5, 3, 4]\n",
    "\n",
    "bar1 = Bar('A', 12, 1.5, 99)\n",
    "bar2 = Bar('B', 12, 2, 128)\n",
    "bar3 = Bar('C', 12, 4, 328)\n",
    "bar4 = Bar('D', 12, 5.5, 854)\n",
    "bar5 = Bar('E', 12, 7.5, 530)\n",
    "bar6 = Bar('E', 12, 8.5, 745)"
   ]
  },
  {
   "cell_type": "code",
   "execution_count": 7,
   "metadata": {},
   "outputs": [
    {
     "name": "stdout",
     "output_type": "stream",
     "text": [
      "1.5\n"
     ]
    }
   ],
   "source": [
    "print(bar1.length)"
   ]
  },
  {
   "cell_type": "code",
   "execution_count": 8,
   "metadata": {},
   "outputs": [],
   "source": [
    "barList = [bar1, bar2, bar3,bar4,bar5,bar6]\n",
    "\n",
    "barLengthList = np.array([bar1.length, bar2.length, bar3.length,bar4.length,bar5.length,bar6.length])"
   ]
  },
  {
   "cell_type": "markdown",
   "metadata": {},
   "source": [
    "**Now Find out the Combination Array**"
   ]
  },
  {
   "cell_type": "code",
   "execution_count": 9,
   "metadata": {},
   "outputs": [
    {
     "data": {
      "text/plain": [
       "array([ 99, 128, 328, 854, 530, 745])"
      ]
     },
     "execution_count": 9,
     "metadata": {},
     "output_type": "execute_result"
    }
   ],
   "source": [
    "bar_number_array = np.array([bar1.number,bar2.number,bar3.number,bar4.number,bar5.number,bar6.number])\n",
    "bar_number_array"
   ]
  },
  {
   "cell_type": "code",
   "execution_count": 10,
   "metadata": {},
   "outputs": [
    {
     "data": {
      "text/plain": [
       "array([[8, 0, 0, 0, 0, 0],\n",
       "       [1, 1, 0, 0, 0, 1],\n",
       "       [0, 2, 2, 0, 0, 0],\n",
       "       [0, 4, 1, 0, 0, 0],\n",
       "       [3, 0, 0, 0, 1, 0],\n",
       "       [3, 1, 0, 1, 0, 0],\n",
       "       [0, 0, 3, 0, 0, 0],\n",
       "       [0, 6, 0, 0, 0, 0],\n",
       "       [4, 1, 1, 0, 0, 0],\n",
       "       [4, 3, 0, 0, 0, 0],\n",
       "       [0, 3, 0, 1, 0, 0],\n",
       "       [5, 2, 0, 0, 0, 0],\n",
       "       [1, 1, 2, 0, 0, 0],\n",
       "       [1, 3, 1, 0, 0, 0],\n",
       "       [4, 0, 0, 1, 0, 0],\n",
       "       [1, 5, 0, 0, 0, 0],\n",
       "       [0, 2, 0, 0, 1, 0],\n",
       "       [0, 1, 1, 1, 0, 0],\n",
       "       [5, 0, 1, 0, 0, 0],\n",
       "       [0, 0, 1, 0, 1, 0],\n",
       "       [2, 0, 0, 0, 0, 1],\n",
       "       [2, 2, 1, 0, 0, 0],\n",
       "       [2, 4, 0, 0, 0, 0],\n",
       "       [1, 1, 0, 0, 1, 0],\n",
       "       [6, 1, 0, 0, 0, 0],\n",
       "       [1, 0, 1, 1, 0, 0],\n",
       "       [2, 0, 2, 0, 0, 0],\n",
       "       [1, 2, 0, 1, 0, 0],\n",
       "       [0, 0, 0, 2, 0, 0],\n",
       "       [2, 1, 0, 1, 0, 0],\n",
       "       [2, 0, 0, 0, 1, 0],\n",
       "       [3, 1, 1, 0, 0, 0],\n",
       "       [7, 0, 0, 0, 0, 0],\n",
       "       [3, 3, 0, 0, 0, 0],\n",
       "       [0, 1, 0, 0, 0, 1],\n",
       "       [4, 2, 0, 0, 0, 0],\n",
       "       [0, 3, 1, 0, 0, 0],\n",
       "       [3, 0, 0, 1, 0, 0],\n",
       "       [4, 0, 1, 0, 0, 0],\n",
       "       [0, 5, 0, 0, 0, 0],\n",
       "       [1, 0, 0, 0, 0, 1],\n",
       "       [0, 1, 2, 0, 0, 0],\n",
       "       [0, 0, 1, 1, 0, 0],\n",
       "       [5, 1, 0, 0, 0, 0],\n",
       "       [0, 1, 0, 0, 1, 0],\n",
       "       [1, 2, 1, 0, 0, 0],\n",
       "       [0, 2, 0, 1, 0, 0],\n",
       "       [1, 4, 0, 0, 0, 0],\n",
       "       [1, 0, 2, 0, 0, 0],\n",
       "       [2, 3, 0, 0, 0, 0],\n",
       "       [2, 1, 1, 0, 0, 0],\n",
       "       [1, 1, 0, 1, 0, 0],\n",
       "       [6, 0, 0, 0, 0, 0],\n",
       "       [1, 0, 0, 0, 1, 0],\n",
       "       [3, 0, 1, 0, 0, 0],\n",
       "       [3, 2, 0, 0, 0, 0],\n",
       "       [0, 0, 0, 0, 0, 1],\n",
       "       [2, 0, 0, 1, 0, 0],\n",
       "       [0, 4, 0, 0, 0, 0],\n",
       "       [4, 1, 0, 0, 0, 0],\n",
       "       [0, 2, 1, 0, 0, 0],\n",
       "       [0, 0, 2, 0, 0, 0],\n",
       "       [0, 1, 0, 1, 0, 0],\n",
       "       [0, 0, 0, 0, 1, 0],\n",
       "       [5, 0, 0, 0, 0, 0],\n",
       "       [1, 3, 0, 0, 0, 0],\n",
       "       [1, 1, 1, 0, 0, 0],\n",
       "       [2, 2, 0, 0, 0, 0],\n",
       "       [2, 0, 1, 0, 0, 0],\n",
       "       [1, 0, 0, 1, 0, 0],\n",
       "       [3, 1, 0, 0, 0, 0],\n",
       "       [0, 3, 0, 0, 0, 0],\n",
       "       [4, 0, 0, 0, 0, 0],\n",
       "       [0, 1, 1, 0, 0, 0],\n",
       "       [1, 2, 0, 0, 0, 0],\n",
       "       [1, 0, 1, 0, 0, 0],\n",
       "       [0, 0, 0, 1, 0, 0],\n",
       "       [2, 1, 0, 0, 0, 0],\n",
       "       [3, 0, 0, 0, 0, 0],\n",
       "       [0, 0, 1, 0, 0, 0],\n",
       "       [0, 2, 0, 0, 0, 0],\n",
       "       [1, 1, 0, 0, 0, 0],\n",
       "       [2, 0, 0, 0, 0, 0],\n",
       "       [0, 1, 0, 0, 0, 0],\n",
       "       [1, 0, 0, 0, 0, 0]])"
      ]
     },
     "execution_count": 10,
     "metadata": {},
     "output_type": "execute_result"
    }
   ],
   "source": [
    "sorted_arr = get_sorted_list(L,barLengthList)\n",
    "sorted_arr"
   ]
  },
  {
   "cell_type": "code",
   "execution_count": 11,
   "metadata": {},
   "outputs": [],
   "source": [
    "def get_results(L,bar_number_array,bar_length_arr):\n",
    "    results = []\n",
    "    sorted_arr = get_sorted_list(L,bar_length_arr)\n",
    "    for comb in sorted_arr:\n",
    "        if bar_number_array.sum()==0:\n",
    "            break\n",
    "        cond = bar_number_array!=0\n",
    "        if comb.sum()==(comb*cond).sum():\n",
    "            min_arr = bar_number_array/comb\n",
    "            min_arr[min_arr==np.nan] = np.inf\n",
    "#             print(min_arr)\n",
    "            cut = int(np.nanmin(min_arr))\n",
    "            \n",
    "            if cut !=0:\n",
    "                bar_number_array = bar_number_array - comb*cut\n",
    "                westage = L-(bar_length_arr*comb).sum()\n",
    "                result = {'cut':cut,'combination':comb,'westage_per_cut':westage,'total_westage':cut*westage,'L':L}\n",
    "                results.append(result)\n",
    "    \n",
    "    return results\n",
    "    \n",
    "    "
   ]
  },
  {
   "cell_type": "code",
   "execution_count": 12,
   "metadata": {},
   "outputs": [
    {
     "name": "stderr",
     "output_type": "stream",
     "text": [
      "C:\\Users\\sohel\\Anaconda3\\lib\\site-packages\\ipykernel_launcher.py:9: RuntimeWarning: invalid value encountered in true_divide\n",
      "  if __name__ == '__main__':\n"
     ]
    },
    {
     "data": {
      "text/plain": [
       "[{'cut': 12,\n",
       "  'combination': array([8, 0, 0, 0, 0, 0]),\n",
       "  'westage_per_cut': 0.0,\n",
       "  'total_westage': 0.0,\n",
       "  'L': 12},\n",
       " {'cut': 3,\n",
       "  'combination': array([1, 1, 0, 0, 0, 1]),\n",
       "  'westage_per_cut': 0.0,\n",
       "  'total_westage': 0.0,\n",
       "  'L': 12},\n",
       " {'cut': 62,\n",
       "  'combination': array([0, 2, 2, 0, 0, 0]),\n",
       "  'westage_per_cut': 0.0,\n",
       "  'total_westage': 0.0,\n",
       "  'L': 12},\n",
       " {'cut': 68,\n",
       "  'combination': array([0, 0, 3, 0, 0, 0]),\n",
       "  'westage_per_cut': 0.0,\n",
       "  'total_westage': 0.0,\n",
       "  'L': 12},\n",
       " {'cut': 427,\n",
       "  'combination': array([0, 0, 0, 2, 0, 0]),\n",
       "  'westage_per_cut': 1.0,\n",
       "  'total_westage': 427.0,\n",
       "  'L': 12},\n",
       " {'cut': 1,\n",
       "  'combination': array([0, 1, 0, 0, 0, 1]),\n",
       "  'westage_per_cut': 1.5,\n",
       "  'total_westage': 1.5,\n",
       "  'L': 12},\n",
       " {'cut': 741,\n",
       "  'combination': array([0, 0, 0, 0, 0, 1]),\n",
       "  'westage_per_cut': 3.5,\n",
       "  'total_westage': 2593.5,\n",
       "  'L': 12},\n",
       " {'cut': 530,\n",
       "  'combination': array([0, 0, 0, 0, 1, 0]),\n",
       "  'westage_per_cut': 4.5,\n",
       "  'total_westage': 2385.0,\n",
       "  'L': 12}]"
      ]
     },
     "execution_count": 12,
     "metadata": {},
     "output_type": "execute_result"
    }
   ],
   "source": [
    "results = get_results(L,bar_number_array,barLengthList)\n",
    "results"
   ]
  },
  {
   "cell_type": "code",
   "execution_count": 13,
   "metadata": {},
   "outputs": [
    {
     "name": "stdout",
     "output_type": "stream",
     "text": [
      "[96  0  0  0  0  0]\n",
      "[3 3 0 0 0 3]\n",
      "[  0 124 124   0   0   0]\n",
      "[  0   0 204   0   0   0]\n",
      "[  0   0   0 854   0   0]\n",
      "[0 1 0 0 0 1]\n",
      "[  0   0   0   0   0 741]\n",
      "[  0   0   0   0 530   0]\n"
     ]
    }
   ],
   "source": [
    "for x in results:\n",
    "    print((np.array(x['combination'])*x['cut']))"
   ]
  },
  {
   "cell_type": "code",
   "execution_count": 14,
   "metadata": {},
   "outputs": [],
   "source": [
    "total_westage =0;\n",
    "for x in results:\n",
    "    total_westage= total_westage+x['total_westage']"
   ]
  },
  {
   "cell_type": "code",
   "execution_count": 15,
   "metadata": {},
   "outputs": [
    {
     "data": {
      "text/plain": [
       "5407.0"
      ]
     },
     "execution_count": 15,
     "metadata": {},
     "output_type": "execute_result"
    }
   ],
   "source": [
    "total_westage"
   ]
  },
  {
   "cell_type": "code",
   "execution_count": null,
   "metadata": {},
   "outputs": [],
   "source": []
  },
  {
   "cell_type": "code",
   "execution_count": 16,
   "metadata": {},
   "outputs": [],
   "source": [
    "optimized_list = []\n",
    "distribution_list = []\n",
    "\n",
    "for x in results:\n",
    "    if x['westage_per_cut']==0 or x['westage_per_cut']<barLengthList.min():\n",
    "        optimized_list.append(x)\n",
    "    else:\n",
    "        distribution_list.append(x)"
   ]
  },
  {
   "cell_type": "code",
   "execution_count": 17,
   "metadata": {},
   "outputs": [
    {
     "data": {
      "text/plain": [
       "[{'cut': 12,\n",
       "  'combination': array([8, 0, 0, 0, 0, 0]),\n",
       "  'westage_per_cut': 0.0,\n",
       "  'total_westage': 0.0,\n",
       "  'L': 12},\n",
       " {'cut': 3,\n",
       "  'combination': array([1, 1, 0, 0, 0, 1]),\n",
       "  'westage_per_cut': 0.0,\n",
       "  'total_westage': 0.0,\n",
       "  'L': 12},\n",
       " {'cut': 62,\n",
       "  'combination': array([0, 2, 2, 0, 0, 0]),\n",
       "  'westage_per_cut': 0.0,\n",
       "  'total_westage': 0.0,\n",
       "  'L': 12},\n",
       " {'cut': 68,\n",
       "  'combination': array([0, 0, 3, 0, 0, 0]),\n",
       "  'westage_per_cut': 0.0,\n",
       "  'total_westage': 0.0,\n",
       "  'L': 12},\n",
       " {'cut': 427,\n",
       "  'combination': array([0, 0, 0, 2, 0, 0]),\n",
       "  'westage_per_cut': 1.0,\n",
       "  'total_westage': 427.0,\n",
       "  'L': 12}]"
      ]
     },
     "execution_count": 17,
     "metadata": {},
     "output_type": "execute_result"
    }
   ],
   "source": [
    "optimized_list"
   ]
  },
  {
   "cell_type": "code",
   "execution_count": 18,
   "metadata": {},
   "outputs": [
    {
     "data": {
      "text/plain": [
       "[{'cut': 1,\n",
       "  'combination': array([0, 1, 0, 0, 0, 1]),\n",
       "  'westage_per_cut': 1.5,\n",
       "  'total_westage': 1.5,\n",
       "  'L': 12},\n",
       " {'cut': 741,\n",
       "  'combination': array([0, 0, 0, 0, 0, 1]),\n",
       "  'westage_per_cut': 3.5,\n",
       "  'total_westage': 2593.5,\n",
       "  'L': 12},\n",
       " {'cut': 530,\n",
       "  'combination': array([0, 0, 0, 0, 1, 0]),\n",
       "  'westage_per_cut': 4.5,\n",
       "  'total_westage': 2385.0,\n",
       "  'L': 12}]"
      ]
     },
     "execution_count": 18,
     "metadata": {},
     "output_type": "execute_result"
    }
   ],
   "source": [
    "distribution_list"
   ]
  },
  {
   "cell_type": "markdown",
   "metadata": {},
   "source": [
    "#### Opmimize the List"
   ]
  },
  {
   "cell_type": "markdown",
   "metadata": {},
   "source": [
    "**First Optimization**"
   ]
  },
  {
   "cell_type": "code",
   "execution_count": 19,
   "metadata": {},
   "outputs": [],
   "source": [
    "def get_sub_cut(item,bar_length_list,bar_number_array):\n",
    "#     print(item)\n",
    "    L = item['westage_per_cut']\n",
    "    item['L'] = L\n",
    "    total_cut = item['cut']\n",
    "    bll = bar_length_list\n",
    "    bna = bar_number_array\n",
    "    print(item)\n",
    "    \n",
    "    results = get_results(L,bna,bll) # Find the Results of All Possible Cuts\n",
    "    #Now Compare With Total Cuts\n",
    "    fr = []\n",
    "    \n",
    "    for x in results:\n",
    "        if x['cut']<=total_cut:\n",
    "            fr.append(x)\n",
    "            total_cut= total_cut-x['cut']\n",
    "        else:\n",
    "            x['cut']= total_cut\n",
    "            x['total_westage'] = x['cut']*x['westage_per_cut']\n",
    "            fr.append(x)\n",
    "            break   \n",
    "    return fr"
   ]
  },
  {
   "cell_type": "code",
   "execution_count": 20,
   "metadata": {},
   "outputs": [],
   "source": [
    "final_list = []"
   ]
  },
  {
   "cell_type": "code",
   "execution_count": 21,
   "metadata": {},
   "outputs": [
    {
     "name": "stdout",
     "output_type": "stream",
     "text": [
      "{'cut': 1, 'combination': array([0, 1, 0, 0, 0, 1]), 'westage_per_cut': 1.5, 'total_westage': 0, 'L': 1.5, 'length_arr': array([1.5, 2. , 4. , 5.5, 7.5, 8.5])}\n",
      "{'cut': 741, 'combination': array([0, 0, 0, 0, 0, 1]), 'westage_per_cut': 3.5, 'total_westage': 0, 'L': 3.5, 'length_arr': array([1.5, 2. , 4. , 5.5, 7.5, 8.5])}\n",
      "{'cut': 530, 'combination': array([0, 0, 0, 0, 1, 0]), 'westage_per_cut': 4.5, 'total_westage': 0, 'L': 4.5, 'length_arr': array([1.5, 2. , 4. , 5.5, 7.5, 8.5])}\n"
     ]
    },
    {
     "name": "stderr",
     "output_type": "stream",
     "text": [
      "C:\\Users\\sohel\\Anaconda3\\lib\\site-packages\\ipykernel_launcher.py:9: RuntimeWarning: invalid value encountered in true_divide\n",
      "  if __name__ == '__main__':\n"
     ]
    }
   ],
   "source": [
    "\n",
    "for item in distribution_list:\n",
    "        bar_number_array = bar_number_array-item['combination']*item['cut']\n",
    "        item['total_westage'] =0\n",
    "        item['L'] = L\n",
    "        item['length_arr'] = barLengthList\n",
    "        final_list.append(item)\n",
    "        sub_cuts = get_sub_cut(item,barLengthList,bar_number_array)\n",
    "        for x in sub_cuts:\n",
    "            final_list.append(x)\n",
    "            bar_number_array = bar_number_array-x['combination']*x['cut']\n",
    "    \n",
    "    \n",
    "    \n",
    "    "
   ]
  },
  {
   "cell_type": "code",
   "execution_count": 22,
   "metadata": {},
   "outputs": [
    {
     "name": "stderr",
     "output_type": "stream",
     "text": [
      "C:\\Users\\sohel\\Anaconda3\\lib\\site-packages\\ipykernel_launcher.py:8: RuntimeWarning: invalid value encountered in true_divide\n",
      "  \n"
     ]
    }
   ],
   "source": [
    "for x in sorted_arr:\n",
    "    cond = bar_number_array ==0\n",
    "    bal = x[cond]\n",
    "    if bal.sum() == 0:\n",
    "        if bar_number_array.sum()==0:\n",
    "            break\n",
    "        cond = bar_number_array!=0\n",
    "        min_arr = bar_number_array/x\n",
    "        cut = int(np.nanmin(min_arr))\n",
    "        bar_number_array = bar_number_array - x*cut\n",
    "        westage = L-(barLengthList*x).sum()\n",
    "        result = {'cut':cut,'combination':x,'westage_per_cut':westage,'total_westage':cut*westage,'L':L}\n",
    "        final_list.append(result)\n",
    "    "
   ]
  },
  {
   "cell_type": "code",
   "execution_count": 24,
   "metadata": {},
   "outputs": [
    {
     "data": {
      "text/plain": [
       "[{'cut': 1,\n",
       "  'combination': array([0, 1, 0, 0, 0, 1]),\n",
       "  'westage_per_cut': 1.5,\n",
       "  'total_westage': 0,\n",
       "  'L': 1.5,\n",
       "  'length_arr': array([1.5, 2. , 4. , 5.5, 7.5, 8.5])},\n",
       " {'cut': 1,\n",
       "  'combination': array([1, 0, 0, 0, 0, 0]),\n",
       "  'westage_per_cut': 0.0,\n",
       "  'total_westage': 0.0,\n",
       "  'L': 1.5,\n",
       "  'length_arr': array([1.5, 2. , 4. , 5.5, 7.5, 8.5])},\n",
       " {'cut': 741,\n",
       "  'combination': array([0, 0, 0, 0, 0, 1]),\n",
       "  'westage_per_cut': 3.5,\n",
       "  'total_westage': 0,\n",
       "  'L': 3.5,\n",
       "  'length_arr': array([1.5, 2. , 4. , 5.5, 7.5, 8.5])},\n",
       " {'cut': 98,\n",
       "  'combination': array([1, 1, 0, 0, 0, 0]),\n",
       "  'westage_per_cut': 0.0,\n",
       "  'total_westage': 0.0,\n",
       "  'L': 3.5,\n",
       "  'length_arr': array([1.5, 2. , 4. , 5.5, 7.5, 8.5])},\n",
       " {'cut': 29,\n",
       "  'combination': array([0, 1, 0, 0, 0, 0]),\n",
       "  'westage_per_cut': 1.5,\n",
       "  'total_westage': 43.5,\n",
       "  'L': 3.5,\n",
       "  'length_arr': array([1.5, 2. , 4. , 5.5, 7.5, 8.5])},\n",
       " {'cut': 530,\n",
       "  'combination': array([0, 0, 0, 0, 1, 0]),\n",
       "  'westage_per_cut': 4.5,\n",
       "  'total_westage': 0,\n",
       "  'L': 4.5,\n",
       "  'length_arr': array([1.5, 2. , 4. , 5.5, 7.5, 8.5])},\n",
       " {'cut': 328,\n",
       "  'combination': array([0, 0, 1, 0, 0, 0]),\n",
       "  'westage_per_cut': 0.5,\n",
       "  'total_westage': 164.0,\n",
       "  'L': 4.5,\n",
       "  'length_arr': array([1.5, 2. , 4. , 5.5, 7.5, 8.5])},\n",
       " {'cut': 427,\n",
       "  'combination': array([0, 0, 0, 2, 0, 0]),\n",
       "  'westage_per_cut': 1.0,\n",
       "  'total_westage': 427.0,\n",
       "  'L': 12,\n",
       "  'length_arr': array([1.5, 2. , 4. , 5.5, 7.5, 8.5])},\n",
       " {'cut': 3,\n",
       "  'combination': array([0, 0, 0, 0, 0, 1]),\n",
       "  'westage_per_cut': 3.5,\n",
       "  'total_westage': 10.5,\n",
       "  'L': 12,\n",
       "  'length_arr': array([1.5, 2. , 4. , 5.5, 7.5, 8.5])}]"
      ]
     },
     "execution_count": 24,
     "metadata": {},
     "output_type": "execute_result"
    }
   ],
   "source": [
    "for x in final_list:\n",
    "    x['length_arr']= barLengthList\n",
    "final_list"
   ]
  },
  {
   "cell_type": "code",
   "execution_count": 25,
   "metadata": {},
   "outputs": [
    {
     "data": {
      "text/plain": [
       "645.0"
      ]
     },
     "execution_count": 25,
     "metadata": {},
     "output_type": "execute_result"
    }
   ],
   "source": [
    "ttt =0\n",
    "for x in final_list:\n",
    "    ttt=ttt+x['total_westage']\n",
    "ttt"
   ]
  },
  {
   "cell_type": "code",
   "execution_count": null,
   "metadata": {},
   "outputs": [],
   "source": []
  }
 ],
 "metadata": {
  "kernelspec": {
   "display_name": "Python 3",
   "language": "python",
   "name": "python3"
  },
  "language_info": {
   "codemirror_mode": {
    "name": "ipython",
    "version": 3
   },
   "file_extension": ".py",
   "mimetype": "text/x-python",
   "name": "python",
   "nbconvert_exporter": "python",
   "pygments_lexer": "ipython3",
   "version": "3.7.3"
  }
 },
 "nbformat": 4,
 "nbformat_minor": 2
}
