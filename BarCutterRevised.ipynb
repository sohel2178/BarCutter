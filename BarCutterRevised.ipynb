{
 "cells": [
  {
   "cell_type": "code",
   "execution_count": 1,
   "metadata": {},
   "outputs": [
    {
     "data": {
      "text/plain": [
       "{'divide': 'warn', 'over': 'warn', 'under': 'ignore', 'invalid': 'warn'}"
      ]
     },
     "execution_count": 1,
     "metadata": {},
     "output_type": "execute_result"
    }
   ],
   "source": [
    "import numpy as np\n",
    "import itertools\n",
    "np.seterr(divide='ignore')"
   ]
  },
  {
   "cell_type": "code",
   "execution_count": 2,
   "metadata": {},
   "outputs": [],
   "source": [
    "class Bar:\n",
    "    def __init__(self, title, dia, length, number):\n",
    "        self.title = title\n",
    "        self.dia = dia\n",
    "        self.length = length\n",
    "        self.number = number"
   ]
  },
  {
   "cell_type": "code",
   "execution_count": 3,
   "metadata": {},
   "outputs": [],
   "source": [
    "def get_bar_length_array(barList):\n",
    "    arr =[]\n",
    "    for x in barList:\n",
    "        arr.append(x.length)\n",
    "    return np.array(arr)"
   ]
  },
  {
   "cell_type": "code",
   "execution_count": 4,
   "metadata": {},
   "outputs": [],
   "source": [
    "def get_bar_number_array(barList):\n",
    "    arr =[]\n",
    "    for x in barList:\n",
    "        arr.append(x.number)\n",
    "    return np.array(arr)"
   ]
  },
  {
   "cell_type": "code",
   "execution_count": 5,
   "metadata": {},
   "outputs": [],
   "source": [
    "def get_coefficien_list(L, bar_length_array):\n",
    "    bar_length_min = min(bar_length_array)\n",
    "    max_iter = int(L/bar_length_min)+1\n",
    "    co_efficient_list = np.arange(max_iter)\n",
    "\n",
    "    product_arguments = [co_efficient_list]*len(bar_length_array)\n",
    "\n",
    "    # print(product_arguments)\n",
    "    return list(itertools.product(*product_arguments))"
   ]
  },
  {
   "cell_type": "code",
   "execution_count": 6,
   "metadata": {},
   "outputs": [],
   "source": [
    "def get_coefficien_arr(L, bar_length_array):\n",
    "    coefficien_arr = np.array(get_coefficien_list(L, bar_length_array))\n",
    "\n",
    "    sum_arr = np.sum(coefficien_arr*bar_length_array, axis=1)\n",
    "    # Remove all item which sum length = 0 or greater than L\n",
    "    condition = (sum_arr == 0) | (sum_arr > L)\n",
    "    condition = np.invert(condition)\n",
    "\n",
    "    return coefficien_arr[condition]"
   ]
  },
  {
   "cell_type": "code",
   "execution_count": null,
   "metadata": {},
   "outputs": [],
   "source": []
  },
  {
   "cell_type": "code",
   "execution_count": 7,
   "metadata": {},
   "outputs": [],
   "source": [
    "L = 12\n",
    "# bar_length_list = [2.5, 3, 4]\n",
    "\n",
    "# bar1 = Bar('A', 12, 1.5, 450)\n",
    "# bar2 = Bar('B', 12, 2, 430)\n",
    "# bar3 = Bar('C', 12, 4, 600)\n",
    "# bar4 = Bar('D', 12, 5.5, 854)\n",
    "# bar5 = Bar('E', 12, 7.5, 530)\n",
    "# bar6 = Bar('F', 12, 8.5, 745)\n",
    "\n",
    "# bar1 = Bar('A', 12, 1.5, 1000)\n",
    "# bar2 = Bar('B', 12, 2, 2000)\n",
    "# bar3 = Bar('C', 12, 4, 328)\n",
    "# bar4 = Bar('D', 12, 5.5, 854)\n",
    "# bar5 = Bar('E', 12, 7.5, 530)\n",
    "# bar6 = Bar('F', 12, 8.5, 500)\n",
    "\n",
    "# bar1 = Bar('A', 12, 1.5, 300)\n",
    "# bar2 = Bar('B', 12, 2, 700)\n",
    "# bar3 = Bar('C', 12, 4, 600)\n",
    "# bar4 = Bar('D', 12, 5.5, 210)\n",
    "# bar5 = Bar('E', 12, 7.5, 530)\n",
    "# bar6 = Bar('F', 12, 8.5, 555)\n",
    "\n",
    "bar1 = Bar('A', 12, 1.5, 1000)\n",
    "bar2 = Bar('B', 12, 2.5, 2000)\n",
    "bar3 = Bar('C', 12, 4, 328)\n",
    "bar4 = Bar('D', 12, 6.5, 450)\n",
    "bar5 = Bar('E', 12, 7.5, 530)\n",
    "bar6 = Bar('F', 12, 8.5, 2000)"
   ]
  },
  {
   "cell_type": "code",
   "execution_count": 8,
   "metadata": {},
   "outputs": [],
   "source": [
    "barList = [bar1,bar2,bar3,bar4,bar5,bar6]\n",
    "bar_length_array = get_bar_length_array(barList)\n",
    "bar_number_array = get_bar_number_array(barList)"
   ]
  },
  {
   "cell_type": "code",
   "execution_count": 9,
   "metadata": {},
   "outputs": [],
   "source": [
    "coefficient_list = get_coefficien_arr(L,bar_length_array)"
   ]
  },
  {
   "cell_type": "code",
   "execution_count": 10,
   "metadata": {},
   "outputs": [
    {
     "data": {
      "text/plain": [
       "array([1.5, 2.5, 4. , 6.5, 7.5, 8.5])"
      ]
     },
     "execution_count": 10,
     "metadata": {},
     "output_type": "execute_result"
    }
   ],
   "source": [
    "bar_length_array"
   ]
  },
  {
   "cell_type": "code",
   "execution_count": 11,
   "metadata": {},
   "outputs": [
    {
     "data": {
      "text/plain": [
       "array([[0, 0, 0, 0, 0, 1],\n",
       "       [0, 0, 0, 0, 1, 0],\n",
       "       [0, 0, 0, 1, 0, 0]])"
      ]
     },
     "execution_count": 11,
     "metadata": {},
     "output_type": "execute_result"
    }
   ],
   "source": [
    "coefficient_list[:3]"
   ]
  },
  {
   "cell_type": "code",
   "execution_count": 12,
   "metadata": {},
   "outputs": [],
   "source": [
    "index_array = np.where(coefficient_list>0,1,0)"
   ]
  },
  {
   "cell_type": "code",
   "execution_count": 13,
   "metadata": {},
   "outputs": [],
   "source": [
    "index_array =np.argsort((index_array*bar_length_array).max(axis=1)) "
   ]
  },
  {
   "cell_type": "code",
   "execution_count": 14,
   "metadata": {},
   "outputs": [
    {
     "data": {
      "text/plain": [
       "array([66, 36, 20, 48, 56, 65, 63, 60, 59, 34, 35, 64, 27, 42, 45, 47, 62,\n",
       "       19, 32, 52, 14, 54, 55,  8, 58, 17, 53, 46, 44, 41, 61, 40, 57, 51,\n",
       "       33, 30,  3,  6,  7, 26, 12, 24, 13, 16, 18, 31,  2,  5, 11, 15, 50,\n",
       "       23, 43, 25, 39, 29, 22, 10, 28, 38,  4,  1, 49, 21,  9, 37,  0],\n",
       "      dtype=int64)"
      ]
     },
     "execution_count": 14,
     "metadata": {},
     "output_type": "execute_result"
    }
   ],
   "source": [
    "index_array"
   ]
  },
  {
   "cell_type": "code",
   "execution_count": 15,
   "metadata": {},
   "outputs": [],
   "source": [
    "index_array = index_array[::-1]"
   ]
  },
  {
   "cell_type": "code",
   "execution_count": 16,
   "metadata": {},
   "outputs": [
    {
     "data": {
      "text/plain": [
       "array([ 0, 37,  9, 21, 49,  1,  4, 38, 28, 10, 22, 29, 39, 25, 43, 23, 50,\n",
       "       15, 11,  5,  2, 31, 18, 16, 13, 24, 12, 26,  7,  6,  3, 30, 33, 51,\n",
       "       57, 40, 61, 41, 44, 46, 53, 17, 58,  8, 55, 54, 14, 52, 32, 19, 62,\n",
       "       47, 45, 42, 27, 64, 35, 34, 59, 60, 63, 65, 56, 48, 20, 36, 66],\n",
       "      dtype=int64)"
      ]
     },
     "execution_count": 16,
     "metadata": {},
     "output_type": "execute_result"
    }
   ],
   "source": [
    "index_array"
   ]
  },
  {
   "cell_type": "code",
   "execution_count": 17,
   "metadata": {},
   "outputs": [],
   "source": [
    "bbb =coefficient_list[index_array]"
   ]
  },
  {
   "cell_type": "code",
   "execution_count": 18,
   "metadata": {},
   "outputs": [],
   "source": [
    "results = []\n",
    "\n",
    "for i,x in enumerate(bar_length_array):\n",
    "    columnIndex = len(bar_length_array)-1-i\n",
    "    mask =bbb[:,columnIndex]>0\n",
    "    f=bbb[mask]\n",
    "    f_comb=f[np.argsort(L-(f*bar_length_array).sum(axis=1))]\n",
    "    results.extend(f_comb)"
   ]
  },
  {
   "cell_type": "code",
   "execution_count": 19,
   "metadata": {},
   "outputs": [],
   "source": [
    "results = np.array(results)"
   ]
  },
  {
   "cell_type": "code",
   "execution_count": 20,
   "metadata": {},
   "outputs": [
    {
     "data": {
      "text/plain": [
       "array([[2, 0, 0, 0, 0, 1],\n",
       "       [0, 1, 0, 0, 0, 1],\n",
       "       [1, 0, 0, 0, 0, 1],\n",
       "       [0, 0, 0, 0, 0, 1],\n",
       "       [3, 0, 0, 0, 1, 0],\n",
       "       [0, 0, 1, 0, 1, 0],\n",
       "       [1, 1, 0, 0, 1, 0],\n",
       "       [2, 0, 0, 0, 1, 0],\n",
       "       [0, 1, 0, 0, 1, 0],\n",
       "       [1, 0, 0, 0, 1, 0],\n",
       "       [0, 0, 0, 0, 1, 0],\n",
       "       [1, 0, 1, 1, 0, 0],\n",
       "       [2, 1, 0, 1, 0, 0],\n",
       "       [0, 2, 0, 1, 0, 0],\n",
       "       [3, 0, 0, 1, 0, 0],\n",
       "       [1, 1, 0, 1, 0, 0],\n",
       "       [0, 0, 1, 1, 0, 0],\n",
       "       [2, 0, 0, 1, 0, 0],\n",
       "       [0, 1, 0, 1, 0, 0],\n",
       "       [1, 0, 0, 1, 0, 0],\n",
       "       [0, 0, 0, 1, 0, 0],\n",
       "       [1, 0, 1, 1, 0, 0],\n",
       "       [1, 1, 2, 0, 0, 0],\n",
       "       [2, 2, 1, 0, 0, 0],\n",
       "       [0, 0, 3, 0, 0, 0],\n",
       "       [0, 0, 1, 0, 1, 0],\n",
       "       [0, 3, 1, 0, 0, 0],\n",
       "       [5, 0, 1, 0, 0, 0],\n",
       "       [2, 0, 2, 0, 0, 0],\n",
       "       [3, 1, 1, 0, 0, 0],\n",
       "       [0, 1, 2, 0, 0, 0],\n",
       "       [1, 2, 1, 0, 0, 0],\n",
       "       [0, 0, 1, 1, 0, 0],\n",
       "       [4, 0, 1, 0, 0, 0],\n",
       "       [1, 0, 2, 0, 0, 0],\n",
       "       [2, 1, 1, 0, 0, 0],\n",
       "       [0, 2, 1, 0, 0, 0],\n",
       "       [3, 0, 1, 0, 0, 0],\n",
       "       [1, 1, 1, 0, 0, 0],\n",
       "       [0, 0, 2, 0, 0, 0],\n",
       "       [2, 0, 1, 0, 0, 0],\n",
       "       [0, 1, 1, 0, 0, 0],\n",
       "       [1, 0, 1, 0, 0, 0],\n",
       "       [0, 0, 1, 0, 0, 0],\n",
       "       [2, 1, 0, 1, 0, 0],\n",
       "       [3, 3, 0, 0, 0, 0],\n",
       "       [1, 1, 2, 0, 0, 0],\n",
       "       [2, 2, 1, 0, 0, 0],\n",
       "       [1, 1, 0, 0, 1, 0],\n",
       "       [1, 4, 0, 0, 0, 0],\n",
       "       [6, 1, 0, 0, 0, 0],\n",
       "       [0, 2, 0, 1, 0, 0],\n",
       "       [0, 3, 1, 0, 0, 0],\n",
       "       [0, 1, 0, 0, 0, 1],\n",
       "       [3, 1, 1, 0, 0, 0],\n",
       "       [4, 2, 0, 0, 0, 0],\n",
       "       [1, 2, 1, 0, 0, 0],\n",
       "       [0, 1, 2, 0, 0, 0],\n",
       "       [1, 1, 0, 1, 0, 0],\n",
       "       [2, 3, 0, 0, 0, 0],\n",
       "       [0, 1, 0, 0, 1, 0],\n",
       "       [0, 4, 0, 0, 0, 0],\n",
       "       [5, 1, 0, 0, 0, 0],\n",
       "       [2, 1, 1, 0, 0, 0],\n",
       "       [3, 2, 0, 0, 0, 0],\n",
       "       [0, 2, 1, 0, 0, 0],\n",
       "       [1, 3, 0, 0, 0, 0],\n",
       "       [0, 1, 0, 1, 0, 0],\n",
       "       [4, 1, 0, 0, 0, 0],\n",
       "       [1, 1, 1, 0, 0, 0],\n",
       "       [2, 2, 0, 0, 0, 0],\n",
       "       [0, 3, 0, 0, 0, 0],\n",
       "       [3, 1, 0, 0, 0, 0],\n",
       "       [0, 1, 1, 0, 0, 0],\n",
       "       [1, 2, 0, 0, 0, 0],\n",
       "       [2, 1, 0, 0, 0, 0],\n",
       "       [0, 2, 0, 0, 0, 0],\n",
       "       [1, 1, 0, 0, 0, 0],\n",
       "       [0, 1, 0, 0, 0, 0],\n",
       "       [2, 2, 1, 0, 0, 0],\n",
       "       [3, 3, 0, 0, 0, 0],\n",
       "       [1, 1, 2, 0, 0, 0],\n",
       "       [2, 1, 0, 1, 0, 0],\n",
       "       [1, 0, 1, 1, 0, 0],\n",
       "       [8, 0, 0, 0, 0, 0],\n",
       "       [3, 0, 0, 0, 1, 0],\n",
       "       [2, 0, 0, 0, 0, 1],\n",
       "       [1, 1, 0, 0, 1, 0],\n",
       "       [1, 4, 0, 0, 0, 0],\n",
       "       [6, 1, 0, 0, 0, 0],\n",
       "       [5, 0, 1, 0, 0, 0],\n",
       "       [4, 2, 0, 0, 0, 0],\n",
       "       [3, 0, 0, 1, 0, 0],\n",
       "       [3, 1, 1, 0, 0, 0],\n",
       "       [2, 0, 2, 0, 0, 0],\n",
       "       [7, 0, 0, 0, 0, 0],\n",
       "       [2, 3, 0, 0, 0, 0],\n",
       "       [1, 1, 0, 1, 0, 0],\n",
       "       [1, 2, 1, 0, 0, 0],\n",
       "       [2, 0, 0, 0, 1, 0],\n",
       "       [1, 0, 0, 0, 0, 1],\n",
       "       [5, 1, 0, 0, 0, 0],\n",
       "       [4, 0, 1, 0, 0, 0],\n",
       "       [2, 1, 1, 0, 0, 0],\n",
       "       [2, 0, 0, 1, 0, 0],\n",
       "       [3, 2, 0, 0, 0, 0],\n",
       "       [1, 0, 2, 0, 0, 0],\n",
       "       [6, 0, 0, 0, 0, 0],\n",
       "       [1, 0, 0, 0, 1, 0],\n",
       "       [1, 3, 0, 0, 0, 0],\n",
       "       [3, 0, 1, 0, 0, 0],\n",
       "       [4, 1, 0, 0, 0, 0],\n",
       "       [1, 0, 0, 1, 0, 0],\n",
       "       [2, 2, 0, 0, 0, 0],\n",
       "       [1, 1, 1, 0, 0, 0],\n",
       "       [5, 0, 0, 0, 0, 0],\n",
       "       [3, 1, 0, 0, 0, 0],\n",
       "       [2, 0, 1, 0, 0, 0],\n",
       "       [1, 2, 0, 0, 0, 0],\n",
       "       [4, 0, 0, 0, 0, 0],\n",
       "       [1, 0, 1, 0, 0, 0],\n",
       "       [2, 1, 0, 0, 0, 0],\n",
       "       [3, 0, 0, 0, 0, 0],\n",
       "       [1, 1, 0, 0, 0, 0],\n",
       "       [2, 0, 0, 0, 0, 0],\n",
       "       [1, 0, 0, 0, 0, 0]])"
      ]
     },
     "execution_count": 20,
     "metadata": {},
     "output_type": "execute_result"
    }
   ],
   "source": [
    "results"
   ]
  },
  {
   "cell_type": "code",
   "execution_count": 21,
   "metadata": {},
   "outputs": [
    {
     "name": "stderr",
     "output_type": "stream",
     "text": [
      "C:\\Users\\sohel\\Anaconda3\\lib\\site-packages\\ipykernel_launcher.py:7: RuntimeWarning: invalid value encountered in true_divide\n",
      "  import sys\n"
     ]
    }
   ],
   "source": [
    "final_list = []\n",
    "for comb in results:\n",
    "    if bar_number_array.sum()==0:\n",
    "            break\n",
    "    cond = bar_number_array!=0\n",
    "    if comb.sum()==(comb*cond).sum():\n",
    "        min_arr = bar_number_array/comb\n",
    "        cut = int(np.nanmin(min_arr))\n",
    "        if cut !=0:\n",
    "            bar_number_array = bar_number_array - comb*cut\n",
    "            westage = L-(bar_length_array*comb).sum()\n",
    "            result = {'cut':cut,'combination':comb,'westage_per_cut':westage,'total_westage':cut*westage,'L':L}\n",
    "            final_list.append(result)"
   ]
  },
  {
   "cell_type": "code",
   "execution_count": 22,
   "metadata": {},
   "outputs": [
    {
     "data": {
      "text/plain": [
       "[{'cut': 500,\n",
       "  'combination': array([2, 0, 0, 0, 0, 1]),\n",
       "  'westage_per_cut': 0.5,\n",
       "  'total_westage': 250.0,\n",
       "  'L': 12},\n",
       " {'cut': 1500,\n",
       "  'combination': array([0, 1, 0, 0, 0, 1]),\n",
       "  'westage_per_cut': 1.0,\n",
       "  'total_westage': 1500.0,\n",
       "  'L': 12},\n",
       " {'cut': 328,\n",
       "  'combination': array([0, 0, 1, 0, 1, 0]),\n",
       "  'westage_per_cut': 0.5,\n",
       "  'total_westage': 164.0,\n",
       "  'L': 12},\n",
       " {'cut': 202,\n",
       "  'combination': array([0, 1, 0, 0, 1, 0]),\n",
       "  'westage_per_cut': 2.0,\n",
       "  'total_westage': 404.0,\n",
       "  'L': 12},\n",
       " {'cut': 149,\n",
       "  'combination': array([0, 2, 0, 1, 0, 0]),\n",
       "  'westage_per_cut': 0.5,\n",
       "  'total_westage': 74.5,\n",
       "  'L': 12},\n",
       " {'cut': 301,\n",
       "  'combination': array([0, 0, 0, 1, 0, 0]),\n",
       "  'westage_per_cut': 5.5,\n",
       "  'total_westage': 1655.5,\n",
       "  'L': 12}]"
      ]
     },
     "execution_count": 22,
     "metadata": {},
     "output_type": "execute_result"
    }
   ],
   "source": [
    "final_list"
   ]
  },
  {
   "cell_type": "code",
   "execution_count": 23,
   "metadata": {},
   "outputs": [],
   "source": [
    "total = 0\n",
    "for x in final_list:\n",
    "    total = total+x['cut']"
   ]
  },
  {
   "cell_type": "code",
   "execution_count": 24,
   "metadata": {},
   "outputs": [
    {
     "data": {
      "text/plain": [
       "2980"
      ]
     },
     "execution_count": 24,
     "metadata": {},
     "output_type": "execute_result"
    }
   ],
   "source": [
    "total"
   ]
  },
  {
   "cell_type": "code",
   "execution_count": null,
   "metadata": {},
   "outputs": [],
   "source": []
  },
  {
   "cell_type": "code",
   "execution_count": null,
   "metadata": {},
   "outputs": [],
   "source": []
  },
  {
   "cell_type": "code",
   "execution_count": null,
   "metadata": {},
   "outputs": [],
   "source": []
  },
  {
   "cell_type": "code",
   "execution_count": 25,
   "metadata": {},
   "outputs": [],
   "source": [
    "mask =bbb[:,len(bar_length_array)-1]>0"
   ]
  },
  {
   "cell_type": "code",
   "execution_count": 26,
   "metadata": {},
   "outputs": [],
   "source": [
    "first = bbb[mask]"
   ]
  },
  {
   "cell_type": "code",
   "execution_count": 27,
   "metadata": {},
   "outputs": [
    {
     "data": {
      "text/plain": [
       "array([1, 2, 3, 0], dtype=int64)"
      ]
     },
     "execution_count": 27,
     "metadata": {},
     "output_type": "execute_result"
    }
   ],
   "source": [
    "np.argsort(L-(first*bar_length_array).sum(axis=1))"
   ]
  },
  {
   "cell_type": "code",
   "execution_count": 28,
   "metadata": {},
   "outputs": [
    {
     "data": {
      "text/plain": [
       "array([3.5, 0.5, 1. , 2. ])"
      ]
     },
     "execution_count": 28,
     "metadata": {},
     "output_type": "execute_result"
    }
   ],
   "source": [
    "L-(first*bar_length_array).sum(axis=1)"
   ]
  },
  {
   "cell_type": "code",
   "execution_count": 29,
   "metadata": {},
   "outputs": [],
   "source": [
    "first_comb =first[np.argsort(L-(first*bar_length_array).sum(axis=1))]"
   ]
  },
  {
   "cell_type": "code",
   "execution_count": 30,
   "metadata": {},
   "outputs": [
    {
     "data": {
      "text/plain": [
       "array([[2, 0, 0, 0, 0, 1],\n",
       "       [0, 1, 0, 0, 0, 1],\n",
       "       [1, 0, 0, 0, 0, 1],\n",
       "       [0, 0, 0, 0, 0, 1]])"
      ]
     },
     "execution_count": 30,
     "metadata": {},
     "output_type": "execute_result"
    }
   ],
   "source": [
    "first_comb"
   ]
  },
  {
   "cell_type": "code",
   "execution_count": 31,
   "metadata": {},
   "outputs": [],
   "source": [
    "for comb in first_comb:\n",
    "    if bar_number_array.sum()==0:\n",
    "            break\n",
    "    cond = bar_number_array!=0\n",
    "    if comb.sum()==(comb*cond).sum():\n",
    "        min_arr = bar_number_array/comb\n",
    "        cut = int(np.nanmin(min_arr))\n",
    "        if cut !=0:\n",
    "            bar_number_array = bar_number_array - comb*cut\n",
    "            westage = L-(bar_length_array*comb).sum()\n",
    "            result = {'cut':cut,'combination':comb,'westage_per_cut':westage,'total_westage':cut*westage,'L':L}\n",
    "            print(result)"
   ]
  },
  {
   "cell_type": "code",
   "execution_count": null,
   "metadata": {},
   "outputs": [],
   "source": []
  },
  {
   "cell_type": "code",
   "execution_count": null,
   "metadata": {},
   "outputs": [],
   "source": []
  },
  {
   "cell_type": "code",
   "execution_count": null,
   "metadata": {},
   "outputs": [],
   "source": []
  },
  {
   "cell_type": "code",
   "execution_count": null,
   "metadata": {},
   "outputs": [],
   "source": []
  },
  {
   "cell_type": "code",
   "execution_count": null,
   "metadata": {},
   "outputs": [],
   "source": []
  },
  {
   "cell_type": "code",
   "execution_count": null,
   "metadata": {},
   "outputs": [],
   "source": []
  },
  {
   "cell_type": "code",
   "execution_count": null,
   "metadata": {},
   "outputs": [],
   "source": []
  },
  {
   "cell_type": "code",
   "execution_count": null,
   "metadata": {},
   "outputs": [],
   "source": []
  },
  {
   "cell_type": "code",
   "execution_count": null,
   "metadata": {},
   "outputs": [],
   "source": []
  },
  {
   "cell_type": "code",
   "execution_count": null,
   "metadata": {},
   "outputs": [],
   "source": []
  },
  {
   "cell_type": "code",
   "execution_count": null,
   "metadata": {},
   "outputs": [],
   "source": []
  },
  {
   "cell_type": "code",
   "execution_count": null,
   "metadata": {},
   "outputs": [],
   "source": []
  },
  {
   "cell_type": "code",
   "execution_count": null,
   "metadata": {},
   "outputs": [],
   "source": []
  },
  {
   "cell_type": "code",
   "execution_count": null,
   "metadata": {},
   "outputs": [],
   "source": []
  },
  {
   "cell_type": "code",
   "execution_count": null,
   "metadata": {},
   "outputs": [],
   "source": []
  },
  {
   "cell_type": "code",
   "execution_count": null,
   "metadata": {},
   "outputs": [],
   "source": []
  },
  {
   "cell_type": "code",
   "execution_count": null,
   "metadata": {},
   "outputs": [],
   "source": []
  }
 ],
 "metadata": {
  "kernelspec": {
   "display_name": "Python 3",
   "language": "python",
   "name": "python3"
  },
  "language_info": {
   "codemirror_mode": {
    "name": "ipython",
    "version": 3
   },
   "file_extension": ".py",
   "mimetype": "text/x-python",
   "name": "python",
   "nbconvert_exporter": "python",
   "pygments_lexer": "ipython3",
   "version": "3.7.3"
  }
 },
 "nbformat": 4,
 "nbformat_minor": 2
}
