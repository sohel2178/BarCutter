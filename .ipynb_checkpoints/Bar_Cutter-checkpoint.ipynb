{
 "cells": [
  {
   "cell_type": "code",
   "execution_count": 1,
   "metadata": {},
   "outputs": [
    {
     "data": {
      "text/plain": [
       "{'divide': 'warn', 'over': 'warn', 'under': 'ignore', 'invalid': 'warn'}"
      ]
     },
     "execution_count": 1,
     "metadata": {},
     "output_type": "execute_result"
    }
   ],
   "source": [
    "import numpy as np\n",
    "import itertools\n",
    "np.seterr(divide='ignore')"
   ]
  },
  {
   "cell_type": "code",
   "execution_count": 2,
   "metadata": {},
   "outputs": [],
   "source": [
    "class Bar:\n",
    "    def __init__(self, title, dia, length, number):\n",
    "        self.title = title\n",
    "        self.dia = dia\n",
    "        self.length = length\n",
    "        self.number = number"
   ]
  },
  {
   "cell_type": "code",
   "execution_count": 3,
   "metadata": {},
   "outputs": [],
   "source": [
    "def get_coefficien_list(L, bar_length_list):\n",
    "    bar_length_min = min(bar_length_list)\n",
    "    max_iter = int(L/bar_length_min)+1\n",
    "    co_efficient_list = np.arange(max_iter)\n",
    "\n",
    "    product_arguments = [co_efficient_list]*len(bar_length_list)\n",
    "\n",
    "    # print(product_arguments)\n",
    "    return list(itertools.product(*product_arguments))"
   ]
  },
  {
   "cell_type": "code",
   "execution_count": 4,
   "metadata": {},
   "outputs": [],
   "source": [
    "def get_coefficien_arr(L, bar_length_list):\n",
    "    coefficien_arr = np.array(get_coefficien_list(L, bar_length_list))\n",
    "    bar_length_arr = np.array(bar_length_list)\n",
    "\n",
    "    sum_arr = np.sum(coefficien_arr*bar_length_arr, axis=1)\n",
    "    # Remove all item which sum length = 0 or greater than L\n",
    "    condition = (sum_arr == 0) | (sum_arr > L)\n",
    "    condition = np.invert(condition)\n",
    "\n",
    "    return coefficien_arr[condition]"
   ]
  },
  {
   "cell_type": "code",
   "execution_count": 5,
   "metadata": {},
   "outputs": [],
   "source": [
    "def get_sorted_list(L,bar_length_list):\n",
    "    coeff_arr = get_coefficien_arr(L,bar_length_list)\n",
    "    westageArr =L-np.sum(coeff_arr * bar_length_list, axis=1)\n",
    "    indexArr = np.argsort(westageArr)\n",
    "    return coeff_arr[indexArr]"
   ]
  },
  {
   "cell_type": "markdown",
   "metadata": {},
   "source": [
    "## Now Define the Bar Parameters"
   ]
  },
  {
   "cell_type": "code",
   "execution_count": 6,
   "metadata": {},
   "outputs": [],
   "source": [
    "L = 12\n",
    "bar_length_list = [2.5, 3, 4]\n",
    "\n",
    "# bar1 = Bar('A', 12, 1.5, 450)\n",
    "# bar2 = Bar('B', 12, 2, 430)\n",
    "# bar3 = Bar('C', 12, 4, 600)\n",
    "# bar4 = Bar('D', 12, 5.5, 854)\n",
    "# bar5 = Bar('E', 12, 7.5, 530)\n",
    "# bar6 = Bar('E', 12, 8.5, 745)\n",
    "\n",
    "bar1 = Bar('A', 12, 1.5, 1000)\n",
    "bar2 = Bar('B', 12, 2, 128)\n",
    "bar3 = Bar('C', 12, 4, 328)\n",
    "bar4 = Bar('D', 12, 5.5, 854)\n",
    "bar5 = Bar('E', 12, 7.5, 530)\n",
    "bar6 = Bar('E', 12, 8.5, 50)"
   ]
  },
  {
   "cell_type": "code",
   "execution_count": 7,
   "metadata": {},
   "outputs": [
    {
     "name": "stdout",
     "output_type": "stream",
     "text": [
      "1.5\n"
     ]
    }
   ],
   "source": [
    "print(bar1.length)"
   ]
  },
  {
   "cell_type": "code",
   "execution_count": 8,
   "metadata": {},
   "outputs": [],
   "source": [
    "def get_bar_length_array(barList):\n",
    "    arr =[]\n",
    "    for x in barList:\n",
    "        arr.append(x.length)\n",
    "    return np.array(arr)"
   ]
  },
  {
   "cell_type": "code",
   "execution_count": 9,
   "metadata": {},
   "outputs": [],
   "source": [
    "def get_bar_number_array(barList):\n",
    "    arr =[]\n",
    "    for x in barList:\n",
    "        arr.append(x.number)\n",
    "    return np.array(arr)"
   ]
  },
  {
   "cell_type": "code",
   "execution_count": 10,
   "metadata": {},
   "outputs": [],
   "source": [
    "def get_results(L,bar_length_arr,bar_number_array):\n",
    "    results = []\n",
    "    sorted_arr = get_sorted_list(L,bar_length_arr)\n",
    "    for comb in sorted_arr:\n",
    "        if bar_number_array.sum()==0:\n",
    "            break\n",
    "        cond = bar_number_array!=0\n",
    "        if comb.sum()==(comb*cond).sum():\n",
    "            min_arr = bar_number_array/comb\n",
    "            min_arr[min_arr==np.nan] = np.inf\n",
    "#             print(min_arr)\n",
    "            cut = int(np.nanmin(min_arr))\n",
    "            \n",
    "            if cut !=0:\n",
    "                bar_number_array = bar_number_array - comb*cut\n",
    "                westage = L-(bar_length_arr*comb).sum()\n",
    "                result = {'cut':cut,'combination':comb,'westage_per_cut':westage,'total_westage':cut*westage,'L':L}\n",
    "                results.append(result)\n",
    "    \n",
    "    return results"
   ]
  },
  {
   "cell_type": "code",
   "execution_count": 11,
   "metadata": {},
   "outputs": [],
   "source": [
    "def get_distributed_list(L,bar_length_arr,bar_number_array):\n",
    "    distribution_list = []\n",
    "    results = get_results(L,bar_length_arr,bar_number_array)\n",
    "\n",
    "    for x in results:\n",
    "        if x['westage_per_cut']!=0 and x['westage_per_cut']>=bar_length_array.min():\n",
    "            distribution_list.append(x)      \n",
    "    return distribution_list;\n",
    "    "
   ]
  },
  {
   "cell_type": "code",
   "execution_count": 12,
   "metadata": {},
   "outputs": [],
   "source": [
    "def get_sub_cut(item,bar_length_array,bar_number_array):\n",
    "#     print(item)\n",
    "    l = item['westage_per_cut']\n",
    "    #item['L'] = l\n",
    "    total_cut = item['cut']\n",
    "    bll = bar_length_array\n",
    "    bna = bar_number_array\n",
    "    \n",
    "    results = get_results(l,bll,bna) # Find the Results of All Possible Cuts\n",
    "    #Now Compare With Total Cuts\n",
    "    fr = []\n",
    "      \n",
    "    for x in results:\n",
    "        if x['cut']<=total_cut:\n",
    "            total_cut= total_cut-x['cut']\n",
    "            fr.append(x)\n",
    "        else:\n",
    "            x['cut']= total_cut\n",
    "            x['total_westage'] = x['cut']*x['westage_per_cut']\n",
    "            fr.append(x)\n",
    "            total_cut= total_cut-x['cut']\n",
    "            break \n",
    "    item['total_westage'] = item['westage_per_cut']*total_cut\n",
    "    return fr"
   ]
  },
  {
   "cell_type": "code",
   "execution_count": 13,
   "metadata": {},
   "outputs": [],
   "source": [
    "barList = [bar1,bar2,bar3,bar4,bar5,bar6]"
   ]
  },
  {
   "cell_type": "code",
   "execution_count": 14,
   "metadata": {},
   "outputs": [
    {
     "name": "stdout",
     "output_type": "stream",
     "text": [
      "[1.5 2.  4.  5.5 7.5 8.5]\n",
      "[1000  128  328  854  530   50]\n"
     ]
    }
   ],
   "source": [
    "bar_length_array = get_bar_length_array(barList)\n",
    "bar_number_array = get_bar_number_array(barList)\n",
    "print(bar_length_array)\n",
    "print(bar_number_array)"
   ]
  },
  {
   "cell_type": "code",
   "execution_count": 15,
   "metadata": {},
   "outputs": [],
   "source": [
    "sorted_arr = get_sorted_list(L,bar_length_array)"
   ]
  },
  {
   "cell_type": "code",
   "execution_count": null,
   "metadata": {},
   "outputs": [],
   "source": [
    "\n",
    "    \n",
    "    "
   ]
  },
  {
   "cell_type": "code",
   "execution_count": 16,
   "metadata": {},
   "outputs": [
    {
     "name": "stderr",
     "output_type": "stream",
     "text": [
      "C:\\Users\\sohel\\Anaconda3\\lib\\site-packages\\ipykernel_launcher.py:9: RuntimeWarning: invalid value encountered in true_divide\n",
      "  if __name__ == '__main__':\n"
     ]
    },
    {
     "data": {
      "text/plain": [
       "[{'cut': 125,\n",
       "  'combination': array([8, 0, 0, 0, 0, 0]),\n",
       "  'westage_per_cut': 0.0,\n",
       "  'total_westage': 0.0,\n",
       "  'L': 12},\n",
       " {'cut': 64,\n",
       "  'combination': array([0, 2, 2, 0, 0, 0]),\n",
       "  'westage_per_cut': 0.0,\n",
       "  'total_westage': 0.0,\n",
       "  'L': 12},\n",
       " {'cut': 66,\n",
       "  'combination': array([0, 0, 3, 0, 0, 0]),\n",
       "  'westage_per_cut': 0.0,\n",
       "  'total_westage': 0.0,\n",
       "  'L': 12},\n",
       " {'cut': 2,\n",
       "  'combination': array([0, 0, 1, 0, 1, 0]),\n",
       "  'westage_per_cut': 0.5,\n",
       "  'total_westage': 1.0,\n",
       "  'L': 12},\n",
       " {'cut': 427,\n",
       "  'combination': array([0, 0, 0, 2, 0, 0]),\n",
       "  'westage_per_cut': 1.0,\n",
       "  'total_westage': 427.0,\n",
       "  'L': 12},\n",
       " {'cut': 50,\n",
       "  'combination': array([0, 0, 0, 0, 0, 1]),\n",
       "  'westage_per_cut': 3.5,\n",
       "  'total_westage': 175.0,\n",
       "  'L': 12},\n",
       " {'cut': 528,\n",
       "  'combination': array([0, 0, 0, 0, 1, 0]),\n",
       "  'westage_per_cut': 4.5,\n",
       "  'total_westage': 2376.0,\n",
       "  'L': 12}]"
      ]
     },
     "execution_count": 16,
     "metadata": {},
     "output_type": "execute_result"
    }
   ],
   "source": [
    "results = get_results(L,bar_length_array,bar_number_array)\n",
    "results"
   ]
  },
  {
   "cell_type": "code",
   "execution_count": 17,
   "metadata": {},
   "outputs": [
    {
     "name": "stdout",
     "output_type": "stream",
     "text": [
      "[1000    0    0    0    0    0]\n",
      "[  0 128 128   0   0   0]\n",
      "[  0   0 198   0   0   0]\n",
      "[0 0 2 0 2 0]\n",
      "[  0   0   0 854   0   0]\n",
      "[ 0  0  0  0  0 50]\n",
      "[  0   0   0   0 528   0]\n"
     ]
    }
   ],
   "source": [
    "for x in results:\n",
    "    print((np.array(x['combination'])*x['cut']))"
   ]
  },
  {
   "cell_type": "code",
   "execution_count": 18,
   "metadata": {},
   "outputs": [],
   "source": [
    "total_westage =0;\n",
    "for x in results:\n",
    "    total_westage= total_westage+x['total_westage']"
   ]
  },
  {
   "cell_type": "code",
   "execution_count": 19,
   "metadata": {},
   "outputs": [
    {
     "data": {
      "text/plain": [
       "2979.0"
      ]
     },
     "execution_count": 19,
     "metadata": {},
     "output_type": "execute_result"
    }
   ],
   "source": [
    "total_westage"
   ]
  },
  {
   "cell_type": "code",
   "execution_count": 20,
   "metadata": {},
   "outputs": [
    {
     "name": "stderr",
     "output_type": "stream",
     "text": [
      "C:\\Users\\sohel\\Anaconda3\\lib\\site-packages\\ipykernel_launcher.py:9: RuntimeWarning: invalid value encountered in true_divide\n",
      "  if __name__ == '__main__':\n"
     ]
    }
   ],
   "source": [
    "distribution_list = get_distributed_list(L,bar_length_array,bar_number_array)\n",
    "# distribution_list =distribution_list[::-1]"
   ]
  },
  {
   "cell_type": "code",
   "execution_count": null,
   "metadata": {},
   "outputs": [],
   "source": []
  },
  {
   "cell_type": "code",
   "execution_count": 21,
   "metadata": {},
   "outputs": [
    {
     "name": "stdout",
     "output_type": "stream",
     "text": [
      "distribution_list exist\n"
     ]
    }
   ],
   "source": [
    "if len(distribution_list)<=0:\n",
    "    print(\"distribution_list length 0\") # here return Results Array\n",
    "else:\n",
    "    print(\"distribution_list exist\")\n",
    "    "
   ]
  },
  {
   "cell_type": "markdown",
   "metadata": {},
   "source": [
    "#### Opmimize the List"
   ]
  },
  {
   "cell_type": "markdown",
   "metadata": {},
   "source": [
    "**First Optimization**"
   ]
  },
  {
   "cell_type": "code",
   "execution_count": 22,
   "metadata": {},
   "outputs": [],
   "source": [
    "# def get_sub_cut(item,bar_length_list,bar_number_array):\n",
    "# #     print(item)\n",
    "#     L = item['westage_per_cut']\n",
    "#     item['L'] = L\n",
    "#     total_cut = item['cut']\n",
    "#     bll = bar_length_list\n",
    "#     bna = bar_number_array\n",
    "#     print(item)\n",
    "    \n",
    "#     results = get_results(L,bna,bll) # Find the Results of All Possible Cuts\n",
    "#     #Now Compare With Total Cuts\n",
    "#     fr = []\n",
    "    \n",
    "#     for x in results:\n",
    "#         if x['cut']<=total_cut:\n",
    "#             fr.append(x)\n",
    "#             total_cut= total_cut-x['cut']\n",
    "#         else:\n",
    "#             x['cut']= total_cut\n",
    "#             x['total_westage'] = x['cut']*x['westage_per_cut']\n",
    "#             fr.append(x)\n",
    "#             break   \n",
    "#     return fr"
   ]
  },
  {
   "cell_type": "code",
   "execution_count": 23,
   "metadata": {},
   "outputs": [],
   "source": [
    "def get_process_distribution_list(L,distribution_list,bar_length_array,bar_number_array):\n",
    "    final_list = []\n",
    "    for item in distribution_list:\n",
    "        bar_number_array = bar_number_array-item['combination']*item['cut']\n",
    "        item['total_westage'] =0\n",
    "        item['length_arr'] = bar_length_array\n",
    "        final_list.append(item)\n",
    "        sub_cuts = get_sub_cut(item,bar_length_array,bar_number_array)\n",
    "        for x in sub_cuts:\n",
    "            final_list.append(x)\n",
    "            bar_number_array = bar_number_array-x['combination']*x['cut']\n",
    "    \n",
    "    sorted_arr = get_sorted_list(L,bar_length_array)\n",
    "    \n",
    "    for x in sorted_arr:\n",
    "        cond = bar_number_array ==0\n",
    "        bal = x[cond]\n",
    "        if bal.sum() == 0:\n",
    "            if bar_number_array.sum()==0:\n",
    "                break\n",
    "            cond = bar_number_array!=0\n",
    "            min_arr = bar_number_array/x\n",
    "            cut = int(np.nanmin(min_arr))\n",
    "            if cut !=0:\n",
    "                bar_number_array = bar_number_array - x*cut\n",
    "                westage = L-(bar_length_array*x).sum()\n",
    "                result = {'cut':cut,'combination':x,'westage_per_cut':westage,'total_westage':cut*westage,'L':L}\n",
    "                final_list.append(result)\n",
    "    \n",
    "    return final_list"
   ]
  },
  {
   "cell_type": "code",
   "execution_count": 24,
   "metadata": {},
   "outputs": [],
   "source": [
    "def get_process_list(L,bar_length_array,bar_number_array):\n",
    "    results = get_results(L,bar_length_array,bar_number_array)\n",
    "    distribution_list = get_distributed_list(L,bar_length_array,bar_number_array)\n",
    "    if len(distribution_list)<=0:\n",
    "        return results\n",
    "#         print(\"distribution_list length 0\") # here return Results Array\n",
    "    else:\n",
    "        return get_process_distribution_list(L,distribution_list,bar_length_array,bar_number_array)"
   ]
  },
  {
   "cell_type": "code",
   "execution_count": 25,
   "metadata": {},
   "outputs": [],
   "source": [
    "def get_total_westage(results):\n",
    "    total_westage = 0\n",
    "    for x in results:\n",
    "        total_westage= total_westage+x['total_westage']\n",
    "    return total_westage"
   ]
  },
  {
   "cell_type": "code",
   "execution_count": 26,
   "metadata": {},
   "outputs": [
    {
     "name": "stderr",
     "output_type": "stream",
     "text": [
      "C:\\Users\\sohel\\Anaconda3\\lib\\site-packages\\ipykernel_launcher.py:9: RuntimeWarning: invalid value encountered in true_divide\n",
      "  if __name__ == '__main__':\n",
      "C:\\Users\\sohel\\Anaconda3\\lib\\site-packages\\ipykernel_launcher.py:22: RuntimeWarning: invalid value encountered in true_divide\n"
     ]
    },
    {
     "data": {
      "text/plain": [
       "[{'cut': 50,\n",
       "  'combination': array([0, 0, 0, 0, 0, 1]),\n",
       "  'westage_per_cut': 3.5,\n",
       "  'total_westage': 0.0,\n",
       "  'L': 12,\n",
       "  'length_arr': array([1.5, 2. , 4. , 5.5, 7.5, 8.5])},\n",
       " {'cut': 50,\n",
       "  'combination': array([1, 1, 0, 0, 0, 0]),\n",
       "  'westage_per_cut': 0.0,\n",
       "  'total_westage': 0.0,\n",
       "  'L': 3.5},\n",
       " {'cut': 528,\n",
       "  'combination': array([0, 0, 0, 0, 1, 0]),\n",
       "  'westage_per_cut': 4.5,\n",
       "  'total_westage': 0.0,\n",
       "  'L': 12,\n",
       "  'length_arr': array([1.5, 2. , 4. , 5.5, 7.5, 8.5])},\n",
       " {'cut': 316,\n",
       "  'combination': array([3, 0, 0, 0, 0, 0]),\n",
       "  'westage_per_cut': 0.0,\n",
       "  'total_westage': 0.0,\n",
       "  'L': 4.5},\n",
       " {'cut': 212,\n",
       "  'combination': array([0, 0, 1, 0, 0, 0]),\n",
       "  'westage_per_cut': 0.5,\n",
       "  'total_westage': 106.0,\n",
       "  'L': 4.5},\n",
       " {'cut': 0,\n",
       "  'combination': array([8, 0, 0, 0, 0, 0]),\n",
       "  'westage_per_cut': 0.0,\n",
       "  'total_westage': 0.0,\n",
       "  'L': 12},\n",
       " {'cut': 39,\n",
       "  'combination': array([0, 2, 2, 0, 0, 0]),\n",
       "  'westage_per_cut': 0.0,\n",
       "  'total_westage': 0.0,\n",
       "  'L': 12},\n",
       " {'cut': 0,\n",
       "  'combination': array([3, 0, 0, 0, 1, 0]),\n",
       "  'westage_per_cut': 0.0,\n",
       "  'total_westage': 0.0,\n",
       "  'L': 12},\n",
       " {'cut': 12,\n",
       "  'combination': array([0, 0, 3, 0, 0, 0]),\n",
       "  'westage_per_cut': 0.0,\n",
       "  'total_westage': 0.0,\n",
       "  'L': 12},\n",
       " {'cut': 0,\n",
       "  'combination': array([4, 0, 0, 1, 0, 0]),\n",
       "  'westage_per_cut': 0.5,\n",
       "  'total_westage': 0.0,\n",
       "  'L': 12},\n",
       " {'cut': 0,\n",
       "  'combination': array([5, 0, 1, 0, 0, 0]),\n",
       "  'westage_per_cut': 0.5,\n",
       "  'total_westage': 0.0,\n",
       "  'L': 12},\n",
       " {'cut': 2,\n",
       "  'combination': array([0, 0, 1, 0, 1, 0]),\n",
       "  'westage_per_cut': 0.5,\n",
       "  'total_westage': 1.0,\n",
       "  'L': 12},\n",
       " {'cut': 427,\n",
       "  'combination': array([0, 0, 0, 2, 0, 0]),\n",
       "  'westage_per_cut': 1.0,\n",
       "  'total_westage': 427.0,\n",
       "  'L': 12},\n",
       " {'cut': 0,\n",
       "  'combination': array([7, 0, 0, 0, 0, 0]),\n",
       "  'westage_per_cut': 1.5,\n",
       "  'total_westage': 0.0,\n",
       "  'L': 12},\n",
       " {'cut': 0,\n",
       "  'combination': array([6, 0, 0, 0, 0, 0]),\n",
       "  'westage_per_cut': 3.0,\n",
       "  'total_westage': 0.0,\n",
       "  'L': 12},\n",
       " {'cut': 0,\n",
       "  'combination': array([5, 0, 0, 0, 0, 0]),\n",
       "  'westage_per_cut': 4.5,\n",
       "  'total_westage': 0.0,\n",
       "  'L': 12},\n",
       " {'cut': 0,\n",
       "  'combination': array([4, 0, 0, 0, 0, 0]),\n",
       "  'westage_per_cut': 6.0,\n",
       "  'total_westage': 0.0,\n",
       "  'L': 12},\n",
       " {'cut': 0,\n",
       "  'combination': array([3, 0, 0, 0, 0, 0]),\n",
       "  'westage_per_cut': 7.5,\n",
       "  'total_westage': 0.0,\n",
       "  'L': 12},\n",
       " {'cut': 1,\n",
       "  'combination': array([2, 0, 0, 0, 0, 0]),\n",
       "  'westage_per_cut': 9.0,\n",
       "  'total_westage': 9.0,\n",
       "  'L': 12}]"
      ]
     },
     "execution_count": 26,
     "metadata": {},
     "output_type": "execute_result"
    }
   ],
   "source": [
    "final_list = get_process_list(L,bar_length_array,bar_number_array)\n",
    "final_list"
   ]
  },
  {
   "cell_type": "code",
   "execution_count": 27,
   "metadata": {},
   "outputs": [
    {
     "data": {
      "text/plain": [
       "543.0"
      ]
     },
     "execution_count": 27,
     "metadata": {},
     "output_type": "execute_result"
    }
   ],
   "source": [
    "westage = get_total_westage(final_list)\n",
    "westage"
   ]
  },
  {
   "cell_type": "code",
   "execution_count": 28,
   "metadata": {},
   "outputs": [
    {
     "data": {
      "text/plain": [
       "4.463625154130703"
      ]
     },
     "execution_count": 28,
     "metadata": {},
     "output_type": "execute_result"
    }
   ],
   "source": [
    "percentage_westage = westage*100/(bar_length_array*bar_number_array).sum()\n",
    "percentage_westage"
   ]
  },
  {
   "cell_type": "code",
   "execution_count": 29,
   "metadata": {
    "scrolled": true
   },
   "outputs": [
    {
     "data": {
      "text/plain": [
       "array([1500.,  256., 1312., 4697., 3975.,  425.])"
      ]
     },
     "execution_count": 29,
     "metadata": {},
     "output_type": "execute_result"
    }
   ],
   "source": [
    "bar_length_array*bar_number_array"
   ]
  },
  {
   "cell_type": "code",
   "execution_count": 30,
   "metadata": {
    "scrolled": true
   },
   "outputs": [
    {
     "data": {
      "text/plain": [
       "array([1000,  128,  328,  854,  530,   50])"
      ]
     },
     "execution_count": 30,
     "metadata": {},
     "output_type": "execute_result"
    }
   ],
   "source": [
    "bar_number_array"
   ]
  },
  {
   "cell_type": "code",
   "execution_count": null,
   "metadata": {},
   "outputs": [],
   "source": []
  },
  {
   "cell_type": "code",
   "execution_count": 31,
   "metadata": {},
   "outputs": [
    {
     "data": {
      "text/plain": [
       "array([1000,  128,  328,  854,  530,   50])"
      ]
     },
     "execution_count": 31,
     "metadata": {},
     "output_type": "execute_result"
    }
   ],
   "source": [
    "bar_number_array"
   ]
  },
  {
   "cell_type": "code",
   "execution_count": 32,
   "metadata": {},
   "outputs": [
    {
     "name": "stderr",
     "output_type": "stream",
     "text": [
      "C:\\Users\\sohel\\Anaconda3\\lib\\site-packages\\ipykernel_launcher.py:8: RuntimeWarning: invalid value encountered in true_divide\n",
      "  \n"
     ]
    }
   ],
   "source": [
    "for x in sorted_arr:\n",
    "    cond = bar_number_array ==0\n",
    "    bal = x[cond]\n",
    "    if bal.sum() == 0:\n",
    "        if bar_number_array.sum()==0:\n",
    "            break\n",
    "        cond = bar_number_array!=0\n",
    "        min_arr = bar_number_array/x\n",
    "        cut = int(np.nanmin(min_arr))\n",
    "        bar_number_array = bar_number_array - x*cut\n",
    "        westage = L-(bar_length_array*x).sum()\n",
    "        result = {'cut':cut,'combination':x,'westage_per_cut':westage,'total_westage':cut*westage,'L':L}\n",
    "        final_list.append(result)\n",
    "    "
   ]
  },
  {
   "cell_type": "code",
   "execution_count": 33,
   "metadata": {},
   "outputs": [
    {
     "data": {
      "text/plain": [
       "26"
      ]
     },
     "execution_count": 33,
     "metadata": {},
     "output_type": "execute_result"
    }
   ],
   "source": [
    "len(final_list)"
   ]
  },
  {
   "cell_type": "code",
   "execution_count": 34,
   "metadata": {},
   "outputs": [
    {
     "ename": "NameError",
     "evalue": "name 'barLengthList' is not defined",
     "output_type": "error",
     "traceback": [
      "\u001b[1;31m---------------------------------------------------------------------------\u001b[0m",
      "\u001b[1;31mNameError\u001b[0m                                 Traceback (most recent call last)",
      "\u001b[1;32m<ipython-input-34-96a791e2780b>\u001b[0m in \u001b[0;36m<module>\u001b[1;34m\u001b[0m\n\u001b[0;32m      1\u001b[0m \u001b[1;32mfor\u001b[0m \u001b[0mx\u001b[0m \u001b[1;32min\u001b[0m \u001b[0mfinal_list\u001b[0m\u001b[1;33m:\u001b[0m\u001b[1;33m\u001b[0m\u001b[1;33m\u001b[0m\u001b[0m\n\u001b[1;32m----> 2\u001b[1;33m     \u001b[0mx\u001b[0m\u001b[1;33m[\u001b[0m\u001b[1;34m'length_arr'\u001b[0m\u001b[1;33m]\u001b[0m\u001b[1;33m=\u001b[0m \u001b[0mbarLengthList\u001b[0m\u001b[1;33m\u001b[0m\u001b[1;33m\u001b[0m\u001b[0m\n\u001b[0m\u001b[0;32m      3\u001b[0m \u001b[0mfinal_list\u001b[0m\u001b[1;33m\u001b[0m\u001b[1;33m\u001b[0m\u001b[0m\n",
      "\u001b[1;31mNameError\u001b[0m: name 'barLengthList' is not defined"
     ]
    }
   ],
   "source": [
    "for x in final_list:\n",
    "    x['length_arr']= barLengthList\n",
    "final_list"
   ]
  },
  {
   "cell_type": "code",
   "execution_count": null,
   "metadata": {},
   "outputs": [],
   "source": [
    "ttt =0\n",
    "for x in final_list:\n",
    "    ttt=ttt+x['total_westage']\n",
    "ttt"
   ]
  },
  {
   "cell_type": "code",
   "execution_count": null,
   "metadata": {},
   "outputs": [],
   "source": [
    "bar_number_array"
   ]
  }
 ],
 "metadata": {
  "kernelspec": {
   "display_name": "Python 3",
   "language": "python",
   "name": "python3"
  },
  "language_info": {
   "codemirror_mode": {
    "name": "ipython",
    "version": 3
   },
   "file_extension": ".py",
   "mimetype": "text/x-python",
   "name": "python",
   "nbconvert_exporter": "python",
   "pygments_lexer": "ipython3",
   "version": "3.7.3"
  }
 },
 "nbformat": 4,
 "nbformat_minor": 2
}
